{
 "cells": [
  {
   "cell_type": "code",
   "execution_count": 24,
   "id": "accomplished-moore",
   "metadata": {},
   "outputs": [
    {
     "name": "stdout",
     "output_type": "stream",
     "text": [
      "Collecting numpy\n",
      "  Using cached numpy-1.22.3-cp38-cp38-manylinux_2_17_x86_64.manylinux2014_x86_64.whl (16.8 MB)\n",
      "Installing collected packages: numpy\n",
      "Successfully installed numpy-1.22.3\n",
      "Note: you may need to restart the kernel to use updated packages.\n"
     ]
    }
   ],
   "source": [
    "pip install --upgrade numpy\n"
   ]
  },
  {
   "cell_type": "code",
   "execution_count": 25,
   "id": "threatened-nation",
   "metadata": {},
   "outputs": [
    {
     "name": "stdout",
     "output_type": "stream",
     "text": [
      "\n",
      "\n",
      "--------\n",
      "['`fused_weight_gradient_mlp_cuda` module not found. gradient accumulation fusion with weight gradient computation disabled.', \"2022-03-14 17:28:17 | INFO | fairseq_cli.interactive | Namespace(all_gather_list_size=16384, beam=5, bpe=None, buffer_size=1024, cpu=False, criterion='cross_entropy', data='../data-bin/wmt16_en_ro_plus_new_datasets', dataset_impl=None, decoding_format=None, diverse_beam_groups=-1, diverse_beam_strength=0.5, diversity_rate=-1.0, empty_cache_freq=0, eval_bleu=False, eval_bleu_args=None, eval_bleu_detok='space', eval_bleu_detok_args=None, eval_bleu_print_samples=False, eval_bleu_remove_bpe=None, eval_tokenized_bleu=False, force_anneal=None, fp16=False, fp16_init_scale=128, fp16_no_flatten_grads=False, fp16_scale_tolerance=0.0, fp16_scale_window=None, gen_subset='test', input='../file.txt', iter_decode_eos_penalty=0.0, iter_decode_force_max_iter=False, iter_decode_max_iter=10, iter_decode_with_beam=1, iter_decode_with_external_reranker=False, left_pad_source='True', left_pad_target='False', lenpen=1, load_alignments=False, log_format=None, log_interval=1000, lr_scheduler='fixed', lr_shrink=0.1, match_source_len=False, max_len_a=0, max_len_b=200, max_sentences=128, max_source_positions=1024, max_target_positions=1024, max_tokens=None, memory_efficient_fp16=False, min_len=1, min_loss_scale=0.0001, model_overrides='{}', momentum=0.99, nbest=1, no_beamable_mm=False, no_early_stop=False, no_progress_bar=False, no_repeat_ngram_size=0, num_shards=1, num_workers=1, optimizer='nag', path='../results/new_datasets/checkpoint_best.pt', prefix_size=0, print_alignment=False, print_step=False, quiet=True, remove_bpe='@@ ', replace_unk=True, required_batch_size_multiple=8, results_path=None, retain_iter_history=False, sacrebleu=False, sampling=False, sampling_topk=-1, sampling_topp=-1.0, score_reference=False, seed=1, shard_id=0, skip_invalid_size_inputs_valid_test=False, source_lang='en', target_lang='ro', task='translation', temperature=1.0, tensorboard_logdir='', threshold_loss_scale=None, tokenizer=None, truncate_source=False, unkpen=0, unnormalized=False, upsample_primary=1, user_dir=None, warmup_updates=0, weight_decay=0.0)\", '2022-03-14 17:28:17 | INFO | fairseq.tasks.translation | [en] dictionary: 39760 types', '2022-03-14 17:28:17 | INFO | fairseq.tasks.translation | [ro] dictionary: 39760 types', '2022-03-14 17:28:17 | INFO | fairseq_cli.interactive | loading model(s) from ../results/new_datasets/checkpoint_best.pt', '2022-03-14 17:28:19 | INFO | fairseq_cli.interactive | Sentence buffer size: 1024', '2022-03-14 17:28:19 | INFO | fairseq_cli.interactive | NOTE: hypothesis and token scores are output in base 2', '2022-03-14 17:28:19 | INFO | fairseq_cli.interactive | Type the input sentence and press return:', '/home/bmusat/Desktop/george/delight-master/fairseq/sequence_generator.py:403: UserWarning: This overload of nonzero is deprecated:', '\\tnonzero()', 'Consider using one of the following signatures instead:', '\\tnonzero(*, bool as_tuple) (Triggered internally at  /pytorch/torch/csrc/utils/python_arg_parser.cpp:766.)', '  batch_idxs = batch_mask.nonzero().squeeze(-1)', 'S-0\\t<unk> has <unk>', 'S-1\\t<unk> am coming from the <unk>']\n"
     ]
    }
   ],
   "source": [
    "result = !python3 inference.py \"../data-bin/wmt16_en_ro_plus_new_datasets\" --path \"../results/new_datasets/checkpoint_best.pt\" --beam 5 --remove-bpe --replace-unk --batch-size 128 --quiet --source-lang en --target-lang ro --buffer-size 1024 --input \"../file.txt\"\n",
    "\n",
    "print(\"\\n\")\n",
    "print(\"--------\")\n",
    "print(result)"
   ]
  },
  {
   "cell_type": "code",
   "execution_count": 33,
   "id": "extended-florida",
   "metadata": {},
   "outputs": [
    {
     "name": "stdout",
     "output_type": "stream",
     "text": [
      "CompletedProcess(args=['python', 'inference.py ../data-bin/wmt16_en_ro_plus_new_datasets --path ../results/new_datasets/checkpoint_best.pt --beam 5 --remove-bpe --replace-unk --batch-size 128 --quiet --source-lang en --target-lang ro --buffer-size 1024 --input ../file.txt'], returncode=2, stdout=b'')\n"
     ]
    }
   ],
   "source": [
    "import subprocess\n",
    "command = [\"python\", \"inference.py ../data-bin/wmt16_en_ro_plus_new_datasets --path ../results/new_datasets/checkpoint_best.pt --beam 5 --remove-bpe --replace-unk --batch-size 128 --quiet --source-lang en --target-lang ro --buffer-size 1024 --input ../file.txt\"]\n",
    "result = subprocess.run(command, stdout=subprocess.PIPE)\n",
    "print(result)"
   ]
  },
  {
   "cell_type": "code",
   "execution_count": 38,
   "id": "alternative-plastic",
   "metadata": {},
   "outputs": [
    {
     "name": "stdout",
     "output_type": "stream",
     "text": [
      "`fused_weight_gradient_mlp_cuda` module not found. gradient accumulation fusion with weight gradient computation disabled.\n",
      "2022-03-14 17:46:00 | INFO | fairseq_cli.interactive | Namespace(all_gather_list_size=16384, beam=5, bpe=None, buffer_size=1024, cpu=False, criterion='cross_entropy', data='../data-bin/wmt16_en_ro_plus_new_datasets', dataset_impl=None, decoding_format=None, diverse_beam_groups=-1, diverse_beam_strength=0.5, diversity_rate=-1.0, empty_cache_freq=0, eval_bleu=False, eval_bleu_args=None, eval_bleu_detok='space', eval_bleu_detok_args=None, eval_bleu_print_samples=False, eval_bleu_remove_bpe=None, eval_tokenized_bleu=False, force_anneal=None, fp16=False, fp16_init_scale=128, fp16_no_flatten_grads=False, fp16_scale_tolerance=0.0, fp16_scale_window=None, gen_subset='test', input='../file.txt', iter_decode_eos_penalty=0.0, iter_decode_force_max_iter=False, iter_decode_max_iter=10, iter_decode_with_beam=1, iter_decode_with_external_reranker=False, left_pad_source='True', left_pad_target='False', lenpen=1, load_alignments=False, log_format=None, log_interval=1000, lr_scheduler='fixed', lr_shrink=0.1, match_source_len=False, max_len_a=0, max_len_b=200, max_sentences=128, max_source_positions=1024, max_target_positions=1024, max_tokens=None, memory_efficient_fp16=False, min_len=1, min_loss_scale=0.0001, model_overrides='{}', momentum=0.99, nbest=1, no_beamable_mm=False, no_early_stop=False, no_progress_bar=False, no_repeat_ngram_size=0, num_shards=1, num_workers=1, optimizer='nag', path='../results/new_datasets/checkpoint_best.pt', prefix_size=0, print_alignment=False, print_step=False, quiet=True, remove_bpe='@@ ', replace_unk=True, required_batch_size_multiple=8, results_path=None, retain_iter_history=False, sacrebleu=False, sampling=False, sampling_topk=-1, sampling_topp=-1.0, score_reference=False, seed=1, shard_id=0, skip_invalid_size_inputs_valid_test=False, source_lang='en', target_lang='ro', task='translation', temperature=1.0, tensorboard_logdir='', threshold_loss_scale=None, tokenizer=None, truncate_source=False, unkpen=0, unnormalized=False, upsample_primary=1, user_dir=None, warmup_updates=0, weight_decay=0.0)\n",
      "2022-03-14 17:46:00 | INFO | fairseq.tasks.translation | [en] dictionary: 39760 types\n",
      "2022-03-14 17:46:00 | INFO | fairseq.tasks.translation | [ro] dictionary: 39760 types\n",
      "2022-03-14 17:46:00 | INFO | fairseq_cli.interactive | loading model(s) from ../results/new_datasets/checkpoint_best.pt\n",
      "2022-03-14 17:46:03 | INFO | fairseq_cli.interactive | Sentence buffer size: 1024\n",
      "2022-03-14 17:46:03 | INFO | fairseq_cli.interactive | NOTE: hypothesis and token scores are output in base 2\n",
      "2022-03-14 17:46:03 | INFO | fairseq_cli.interactive | Type the input sentence and press return:\n",
      "/home/bmusat/Desktop/george/delight-master/fairseq/sequence_generator.py:403: UserWarning: This overload of nonzero is deprecated:\n",
      "\tnonzero()\n",
      "Consider using one of the following signatures instead:\n",
      "\tnonzero(*, bool as_tuple) (Triggered internally at  /pytorch/torch/csrc/utils/python_arg_parser.cpp:766.)\n",
      "  batch_idxs = batch_mask.nonzero().squeeze(-1)\n",
      "S-0\t<unk> has <unk>\n",
      "S-1\t<unk> am coming from the <unk>\n",
      "\n"
     ]
    }
   ],
   "source": [
    "import subprocess\n",
    "\n",
    "def run_cmd(cmd: str, stderr=subprocess.STDOUT) -> None:\n",
    "    \"\"\"Run a command in terminal\n",
    "\n",
    "    Args:\n",
    "        cmd (str): command to run in terminal\n",
    "        stderr (subprocess, optional): Where the error has to go. Defaults to subprocess.STDOUT.\n",
    "\n",
    "    Raises:\n",
    "        e: Excetion of the CalledProcessError\n",
    "    \"\"\"\n",
    "    out = None\n",
    "    try:\n",
    "        out = subprocess.check_output(\n",
    "            [cmd],\n",
    "            shell=True,\n",
    "            stderr=stderr,\n",
    "            universal_newlines=True,\n",
    "        )\n",
    "    except subprocess.CalledProcessError as e:\n",
    "        print(f'ERROR {e.returncode}: {cmd}\\n\\t{e.output}',\n",
    "              flush=True, file=sys.stderr)\n",
    "        raise e\n",
    "    print(out)\n",
    "    \n",
    "run_cmd(\"python3 inference.py ../data-bin/wmt16_en_ro_plus_new_datasets --path ../results/new_datasets/checkpoint_best.pt --beam 5 --remove-bpe --replace-unk --batch-size 128 --quiet --source-lang en --target-lang ro --buffer-size 1024 --input ../file.txt\")"
   ]
  },
  {
   "cell_type": "code",
   "execution_count": 18,
   "id": "enclosed-creativity",
   "metadata": {},
   "outputs": [
    {
     "ename": "FileNotFoundError",
     "evalue": "[Errno 2] No such file or directory: '!python3 inference.py ../data-bin/wmt16_en_ro_plus_new_datasets --path ../results/new_datasets/checkpoint_best.pt --beam 5 --remove-bpe --replace-unk --batch-size 128 --quiet'",
     "output_type": "error",
     "traceback": [
      "\u001b[0;31m---------------------------------------------------------------------------\u001b[0m",
      "\u001b[0;31mFileNotFoundError\u001b[0m                         Traceback (most recent call last)",
      "\u001b[0;32m<ipython-input-18-861a7860f105>\u001b[0m in \u001b[0;36m<module>\u001b[0;34m\u001b[0m\n\u001b[1;32m      2\u001b[0m command = [\n\u001b[1;32m      3\u001b[0m     \"!python3 inference.py ../data-bin/wmt16_en_ro_plus_new_datasets --path ../results/new_datasets/checkpoint_best.pt --beam 5 --remove-bpe --replace-unk --batch-size 128 --quiet\"]\n\u001b[0;32m----> 4\u001b[0;31m \u001b[0mresult\u001b[0m \u001b[0;34m=\u001b[0m \u001b[0msubprocess\u001b[0m\u001b[0;34m.\u001b[0m\u001b[0mrun\u001b[0m\u001b[0;34m(\u001b[0m\u001b[0mcommand\u001b[0m\u001b[0;34m,\u001b[0m \u001b[0mstdout\u001b[0m\u001b[0;34m=\u001b[0m\u001b[0msubprocess\u001b[0m\u001b[0;34m.\u001b[0m\u001b[0mPIPE\u001b[0m\u001b[0;34m)\u001b[0m\u001b[0;34m\u001b[0m\u001b[0;34m\u001b[0m\u001b[0m\n\u001b[0m\u001b[1;32m      5\u001b[0m \u001b[0msubprocess_return\u001b[0m \u001b[0;34m=\u001b[0m \u001b[0msubprocess\u001b[0m\u001b[0;34m.\u001b[0m\u001b[0mstdout\u001b[0m\u001b[0;34m.\u001b[0m\u001b[0mread\u001b[0m\u001b[0;34m(\u001b[0m\u001b[0;34m)\u001b[0m\u001b[0;34m\u001b[0m\u001b[0;34m\u001b[0m\u001b[0m\n\u001b[1;32m      6\u001b[0m \u001b[0mprint\u001b[0m\u001b[0;34m(\u001b[0m\u001b[0msubprocess_return\u001b[0m\u001b[0;34m)\u001b[0m\u001b[0;34m\u001b[0m\u001b[0;34m\u001b[0m\u001b[0m\n",
      "\u001b[0;32m/usr/lib/python3.8/subprocess.py\u001b[0m in \u001b[0;36mrun\u001b[0;34m(input, capture_output, timeout, check, *popenargs, **kwargs)\u001b[0m\n\u001b[1;32m    491\u001b[0m         \u001b[0mkwargs\u001b[0m\u001b[0;34m[\u001b[0m\u001b[0;34m'stderr'\u001b[0m\u001b[0;34m]\u001b[0m \u001b[0;34m=\u001b[0m \u001b[0mPIPE\u001b[0m\u001b[0;34m\u001b[0m\u001b[0;34m\u001b[0m\u001b[0m\n\u001b[1;32m    492\u001b[0m \u001b[0;34m\u001b[0m\u001b[0m\n\u001b[0;32m--> 493\u001b[0;31m     \u001b[0;32mwith\u001b[0m \u001b[0mPopen\u001b[0m\u001b[0;34m(\u001b[0m\u001b[0;34m*\u001b[0m\u001b[0mpopenargs\u001b[0m\u001b[0;34m,\u001b[0m \u001b[0;34m**\u001b[0m\u001b[0mkwargs\u001b[0m\u001b[0;34m)\u001b[0m \u001b[0;32mas\u001b[0m \u001b[0mprocess\u001b[0m\u001b[0;34m:\u001b[0m\u001b[0;34m\u001b[0m\u001b[0;34m\u001b[0m\u001b[0m\n\u001b[0m\u001b[1;32m    494\u001b[0m         \u001b[0;32mtry\u001b[0m\u001b[0;34m:\u001b[0m\u001b[0;34m\u001b[0m\u001b[0;34m\u001b[0m\u001b[0m\n\u001b[1;32m    495\u001b[0m             \u001b[0mstdout\u001b[0m\u001b[0;34m,\u001b[0m \u001b[0mstderr\u001b[0m \u001b[0;34m=\u001b[0m \u001b[0mprocess\u001b[0m\u001b[0;34m.\u001b[0m\u001b[0mcommunicate\u001b[0m\u001b[0;34m(\u001b[0m\u001b[0minput\u001b[0m\u001b[0;34m,\u001b[0m \u001b[0mtimeout\u001b[0m\u001b[0;34m=\u001b[0m\u001b[0mtimeout\u001b[0m\u001b[0;34m)\u001b[0m\u001b[0;34m\u001b[0m\u001b[0;34m\u001b[0m\u001b[0m\n",
      "\u001b[0;32m/usr/lib/python3.8/subprocess.py\u001b[0m in \u001b[0;36m__init__\u001b[0;34m(self, args, bufsize, executable, stdin, stdout, stderr, preexec_fn, close_fds, shell, cwd, env, universal_newlines, startupinfo, creationflags, restore_signals, start_new_session, pass_fds, encoding, errors, text)\u001b[0m\n\u001b[1;32m    856\u001b[0m                             encoding=encoding, errors=errors)\n\u001b[1;32m    857\u001b[0m \u001b[0;34m\u001b[0m\u001b[0m\n\u001b[0;32m--> 858\u001b[0;31m             self._execute_child(args, executable, preexec_fn, close_fds,\n\u001b[0m\u001b[1;32m    859\u001b[0m                                 \u001b[0mpass_fds\u001b[0m\u001b[0;34m,\u001b[0m \u001b[0mcwd\u001b[0m\u001b[0;34m,\u001b[0m \u001b[0menv\u001b[0m\u001b[0;34m,\u001b[0m\u001b[0;34m\u001b[0m\u001b[0;34m\u001b[0m\u001b[0m\n\u001b[1;32m    860\u001b[0m                                 \u001b[0mstartupinfo\u001b[0m\u001b[0;34m,\u001b[0m \u001b[0mcreationflags\u001b[0m\u001b[0;34m,\u001b[0m \u001b[0mshell\u001b[0m\u001b[0;34m,\u001b[0m\u001b[0;34m\u001b[0m\u001b[0;34m\u001b[0m\u001b[0m\n",
      "\u001b[0;32m/usr/lib/python3.8/subprocess.py\u001b[0m in \u001b[0;36m_execute_child\u001b[0;34m(self, args, executable, preexec_fn, close_fds, pass_fds, cwd, env, startupinfo, creationflags, shell, p2cread, p2cwrite, c2pread, c2pwrite, errread, errwrite, restore_signals, start_new_session)\u001b[0m\n\u001b[1;32m   1702\u001b[0m                     \u001b[0;32mif\u001b[0m \u001b[0merrno_num\u001b[0m \u001b[0;34m!=\u001b[0m \u001b[0;36m0\u001b[0m\u001b[0;34m:\u001b[0m\u001b[0;34m\u001b[0m\u001b[0;34m\u001b[0m\u001b[0m\n\u001b[1;32m   1703\u001b[0m                         \u001b[0merr_msg\u001b[0m \u001b[0;34m=\u001b[0m \u001b[0mos\u001b[0m\u001b[0;34m.\u001b[0m\u001b[0mstrerror\u001b[0m\u001b[0;34m(\u001b[0m\u001b[0merrno_num\u001b[0m\u001b[0;34m)\u001b[0m\u001b[0;34m\u001b[0m\u001b[0;34m\u001b[0m\u001b[0m\n\u001b[0;32m-> 1704\u001b[0;31m                     \u001b[0;32mraise\u001b[0m \u001b[0mchild_exception_type\u001b[0m\u001b[0;34m(\u001b[0m\u001b[0merrno_num\u001b[0m\u001b[0;34m,\u001b[0m \u001b[0merr_msg\u001b[0m\u001b[0;34m,\u001b[0m \u001b[0merr_filename\u001b[0m\u001b[0;34m)\u001b[0m\u001b[0;34m\u001b[0m\u001b[0;34m\u001b[0m\u001b[0m\n\u001b[0m\u001b[1;32m   1705\u001b[0m                 \u001b[0;32mraise\u001b[0m \u001b[0mchild_exception_type\u001b[0m\u001b[0;34m(\u001b[0m\u001b[0merr_msg\u001b[0m\u001b[0;34m)\u001b[0m\u001b[0;34m\u001b[0m\u001b[0;34m\u001b[0m\u001b[0m\n\u001b[1;32m   1706\u001b[0m \u001b[0;34m\u001b[0m\u001b[0m\n",
      "\u001b[0;31mFileNotFoundError\u001b[0m: [Errno 2] No such file or directory: '!python3 inference.py ../data-bin/wmt16_en_ro_plus_new_datasets --path ../results/new_datasets/checkpoint_best.pt --beam 5 --remove-bpe --replace-unk --batch-size 128 --quiet'"
     ]
    }
   ],
   "source": [
    "import subprocess\n",
    "command = [\"cd /home/bmusat/Desktop/george/delight-master/fairseq_cli\",\n",
    "    \"!python3 inference.py ../data-bin/wmt16_en_ro_plus_new_datasets --path ../results/new_datasets/checkpoint_best.pt --beam 5 --remove-bpe --replace-unk --batch-size 128 --quiet\"]\n",
    "result = subprocess.run(command, stdout=subprocess.PIPE)\n",
    "subprocess_return = subprocess.stdout.read()\n",
    "print(subprocess_return)"
   ]
  },
  {
   "cell_type": "code",
   "execution_count": null,
   "id": "dressed-clause",
   "metadata": {},
   "outputs": [],
   "source": []
  }
 ],
 "metadata": {
  "kernelspec": {
   "display_name": "Python 3",
   "language": "python",
   "name": "python3"
  },
  "language_info": {
   "codemirror_mode": {
    "name": "ipython",
    "version": 3
   },
   "file_extension": ".py",
   "mimetype": "text/x-python",
   "name": "python",
   "nbconvert_exporter": "python",
   "pygments_lexer": "ipython3",
   "version": "3.8.10"
  }
 },
 "nbformat": 4,
 "nbformat_minor": 5
}
